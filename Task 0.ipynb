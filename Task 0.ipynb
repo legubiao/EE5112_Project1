{
 "cells": [
  {
   "cell_type": "markdown",
   "id": "caaf4aba819219c0",
   "metadata": {},
   "source": [
    "# Task 0: Recognize facial expressions"
   ]
  },
  {
   "cell_type": "markdown",
   "id": "4b051b3b",
   "metadata": {},
   "source": [
    "## (1).\tLoad data and visualize images. "
   ]
  },
  {
   "cell_type": "code",
   "execution_count": 1,
   "id": "dd740417",
   "metadata": {
    "ExecuteTime": {
     "end_time": "2023-09-15T03:00:38.460722100Z",
     "start_time": "2023-09-15T03:00:31.026020700Z"
    }
   },
   "outputs": [
    {
     "name": "stdout",
     "output_type": "stream",
     "text": [
      "The number of dataset is 6999\n"
     ]
    }
   ],
   "source": [
    "import numpy as np\n",
    "import pandas as pd\n",
    "\n",
    "fer2013 = pd.read_csv('./dataset_for_task0/fer2013_7k.csv')[['emotion', 'pixels']] \n",
    "fer2013['pixels'] = fer2013['pixels'].apply(lambda x: np.array(x.split()).astype(int))\n",
    "\n",
    "num_of_dataset = len(fer2013)\n",
    "print(f\"The number of dataset is {num_of_dataset}\")"
   ]
  },
  {
   "cell_type": "code",
   "execution_count": 3,
   "id": "9cc32b79",
   "metadata": {
    "ExecuteTime": {
     "end_time": "2023-09-15T03:01:23.959491100Z",
     "start_time": "2023-09-15T03:01:21.785355800Z"
    }
   },
   "outputs": [
    {
     "name": "stdout",
     "output_type": "stream",
     "text": [
      "Label: anger\n"
     ]
    },
    {
     "data": {
      "text/plain": "<Figure size 640x480 with 1 Axes>",
      "image/png": "[encoded data removed]"
     },
     "metadata": {},
     "output_type": "display_data"
    }
   ],
   "source": [
    "import cv2\n",
    "import matplotlib.pyplot as plt\n",
    "\n",
    "emotion_label_to_text = {\n",
    "    0: 'anger', 1: 'disgust', \n",
    "    2: 'fear', 3: 'happiness', \n",
    "    4: 'sadness', 5: 'surprise', \n",
    "    6: 'neutral'\n",
    "}\n",
    "\n",
    "# randomly select one image\n",
    "img = fer2013['pixels'][0].reshape(48,48)\n",
    "plt.imshow(img, cmap=\"gray\")\n",
    "print('Label: {0}'.format(emotion_label_to_text[fer2013['emotion'][0]]))"
   ]
  },
  {
   "cell_type": "markdown",
   "id": "8f43a99c",
   "metadata": {},
   "source": [
    "## (2). Train classification model with logistic regression algorithm on training set and evaluate the model on test set.\n",
    "- define the Logistic Regression model with solver='sag'\n",
    "- Train the model on the training set, and evaluate it on the test set.\n",
    "- Calculate the accuracy on each catagory.\n",
    "\n",
    "Ref: https://scikit-learn.org/stable/modules/generated/sklearn.linear_model.LogisticRegression.html"
   ]
  },
  {
   "cell_type": "code",
   "execution_count": 5,
   "id": "31b1a316",
   "metadata": {
    "ExecuteTime": {
     "end_time": "2023-09-15T03:06:18.977933800Z",
     "start_time": "2023-09-15T03:05:54.174589100Z"
    }
   },
   "outputs": [
    {
     "name": "stderr",
     "output_type": "stream",
     "text": [
      "C:\\Users\\biao8\\anaconda3\\envs\\EE5112\\lib\\site-packages\\sklearn\\linear_model\\_sag.py:350: ConvergenceWarning: The max_iter was reached which means the coef_ did not converge\n",
      "  warnings.warn(\n"
     ]
    },
    {
     "data": {
      "text/plain": "LogisticRegression(solver='sag')",
      "text/html": "<style>#sk-container-id-2 {color: black;}#sk-container-id-2 pre{padding: 0;}#sk-container-id-2 div.sk-toggleable {background-color: white;}#sk-container-id-2 label.sk-toggleable__label {cursor: pointer;display: block;width: 100%;margin-bottom: 0;padding: 0.3em;box-sizing: border-box;text-align: center;}#sk-container-id-2 label.sk-toggleable__label-arrow:before {content: \"▸\";float: left;margin-right: 0.25em;color: #696969;}#sk-container-id-2 label.sk-toggleable__label-arrow:hover:before {color: black;}#sk-container-id-2 div.sk-estimator:hover label.sk-toggleable__label-arrow:before {color: black;}#sk-container-id-2 div.sk-toggleable__content {max-height: 0;max-width: 0;overflow: hidden;text-align: left;background-color: #f0f8ff;}#sk-container-id-2 div.sk-toggleable__content pre {margin: 0.2em;color: black;border-radius: 0.25em;background-color: #f0f8ff;}#sk-container-id-2 input.sk-toggleable__control:checked~div.sk-toggleable__content {max-height: 200px;max-width: 100%;overflow: auto;}#sk-container-id-2 input.sk-toggleable__control:checked~label.sk-toggleable__label-arrow:before {content: \"▾\";}#sk-container-id-2 div.sk-estimator input.sk-toggleable__control:checked~label.sk-toggleable__label {background-color: #d4ebff;}#sk-container-id-2 div.sk-label input.sk-toggleable__control:checked~label.sk-toggleable__label {background-color: #d4ebff;}#sk-container-id-2 input.sk-hidden--visually {border: 0;clip: rect(1px 1px 1px 1px);clip: rect(1px, 1px, 1px, 1px);height: 1px;margin: -1px;overflow: hidden;padding: 0;position: absolute;width: 1px;}#sk-container-id-2 div.sk-estimator {font-family: monospace;background-color: #f0f8ff;border: 1px dotted black;border-radius: 0.25em;box-sizing: border-box;margin-bottom: 0.5em;}#sk-container-id-2 div.sk-estimator:hover {background-color: #d4ebff;}#sk-container-id-2 div.sk-parallel-item::after {content: \"\";width: 100%;border-bottom: 1px solid gray;flex-grow: 1;}#sk-container-id-2 div.sk-label:hover label.sk-toggleable__label {background-color: #d4ebff;}#sk-container-id-2 div.sk-serial::before {content: \"\";position: absolute;border-left: 1px solid gray;box-sizing: border-box;top: 0;bottom: 0;left: 50%;z-index: 0;}#sk-container-id-2 div.sk-serial {display: flex;flex-direction: column;align-items: center;background-color: white;padding-right: 0.2em;padding-left: 0.2em;position: relative;}#sk-container-id-2 div.sk-item {position: relative;z-index: 1;}#sk-container-id-2 div.sk-parallel {display: flex;align-items: stretch;justify-content: center;background-color: white;position: relative;}#sk-container-id-2 div.sk-item::before, #sk-container-id-2 div.sk-parallel-item::before {content: \"\";position: absolute;border-left: 1px solid gray;box-sizing: border-box;top: 0;bottom: 0;left: 50%;z-index: -1;}#sk-container-id-2 div.sk-parallel-item {display: flex;flex-direction: column;z-index: 1;position: relative;background-color: white;}#sk-container-id-2 div.sk-parallel-item:first-child::after {align-self: flex-end;width: 50%;}#sk-container-id-2 div.sk-parallel-item:last-child::after {align-self: flex-start;width: 50%;}#sk-container-id-2 div.sk-parallel-item:only-child::after {width: 0;}#sk-container-id-2 div.sk-dashed-wrapped {border: 1px dashed gray;margin: 0 0.4em 0.5em 0.4em;box-sizing: border-box;padding-bottom: 0.4em;background-color: white;}#sk-container-id-2 div.sk-label label {font-family: monospace;font-weight: bold;display: inline-block;line-height: 1.2em;}#sk-container-id-2 div.sk-label-container {text-align: center;}#sk-container-id-2 div.sk-container {/* jupyter's `normalize.less` sets `[hidden] { display: none; }` but bootstrap.min.css set `[hidden] { display: none !important; }` so we also need the `!important` here to be able to override the default hidden behavior on the sphinx rendered scikit-learn.org. See: https://github.com/scikit-learn/scikit-learn/issues/21755 */display: inline-block !important;position: relative;}#sk-container-id-2 div.sk-text-repr-fallback {display: none;}</style><div id=\"sk-container-id-2\" class=\"sk-top-container\"><div class=\"sk-text-repr-fallback\"><pre>LogisticRegression(solver=&#x27;sag&#x27;)</pre><b>In a Jupyter environment, please rerun this cell to show the HTML representation or trust the notebook. <br />On GitHub, the HTML representation is unable to render, please try loading this page with nbviewer.org.</b></div><div class=\"sk-container\" hidden><div class=\"sk-item\"><div class=\"sk-estimator sk-toggleable\"><input class=\"sk-toggleable__control sk-hidden--visually\" id=\"sk-estimator-id-2\" type=\"checkbox\" checked><label for=\"sk-estimator-id-2\" class=\"sk-toggleable__label sk-toggleable__label-arrow\">LogisticRegression</label><div class=\"sk-toggleable__content\"><pre>LogisticRegression(solver=&#x27;sag&#x27;)</pre></div></div></div></div></div>"
     },
     "execution_count": 5,
     "metadata": {},
     "output_type": "execute_result"
    }
   ],
   "source": [
    "from sklearn import linear_model\n",
    "\n",
    "dfTrain = fer2013.iloc[:-1000] # 训练集\n",
    "dfTest = fer2013.iloc[-1000:] # 测试集\n",
    "\n",
    "y = dfTrain['emotion'].values.flatten() # \n",
    "x = np.vstack(dfTrain['pixels'].values)\n",
    "\n",
    "# TODO: train the model\n",
    "\n",
    "######## your code ########\n",
    "model = linear_model.LogisticRegression(solver='sag')\n",
    "model.fit(x, y)\n",
    "######## your code ########"
   ]
  },
  {
   "cell_type": "code",
   "execution_count": 6,
   "id": "e9df87ab",
   "metadata": {
    "ExecuteTime": {
     "end_time": "2023-09-15T03:06:37.884972700Z",
     "start_time": "2023-09-15T03:06:37.844891100Z"
    }
   },
   "outputs": [],
   "source": [
    "# TODO: predict outputs on test set\n",
    "\n",
    "######## your code ########\n",
    "y_test_pred = model.predict(np.vstack(dfTest['pixels'].values))\n",
    "######## your code ########"
   ]
  },
  {
   "cell_type": "code",
   "execution_count": 7,
   "id": "eadfa2c2",
   "metadata": {
    "ExecuteTime": {
     "end_time": "2023-09-15T03:06:39.066721500Z",
     "start_time": "2023-09-15T03:06:39.029004400Z"
    }
   },
   "outputs": [
    {
     "name": "stdout",
     "output_type": "stream",
     "text": [
      "Accuracy: 0.316\n",
      "Confusion matrix:\n",
      "[[ 26   1  16  36  16  14  26]\n",
      " [  0   0   4   2   4   1   5]\n",
      " [ 21   0  23  48  14  22  29]\n",
      " [ 24   0  18 146  30  11  18]\n",
      " [ 29   0  21  47  36  11  38]\n",
      " [ 13   0  15  24  12  42  12]\n",
      " [ 17   0  17  43  14  11  43]]\n",
      "              precision    recall  f1-score   support\n",
      "\n",
      "       anger       0.20      0.19      0.20       135\n",
      "     disgust       0.00      0.00      0.00        16\n",
      "        fear       0.20      0.15      0.17       157\n",
      "   happiness       0.42      0.59      0.49       247\n",
      "     sadness       0.29      0.20      0.23       182\n",
      "    surprise       0.38      0.36      0.37       118\n",
      "     neutral       0.25      0.30      0.27       145\n",
      "\n",
      "    accuracy                           0.32      1000\n",
      "   macro avg       0.25      0.25      0.25      1000\n",
      "weighted avg       0.30      0.32      0.30      1000\n"
     ]
    }
   ],
   "source": [
    "# TODO: calculate the accuracy\n",
    "# Ref: https://scikit-learn.org/stable/modules/generated/sklearn.metrics.confusion_matrix.html\n",
    "from sklearn import metrics\n",
    "\n",
    "######## your code ########\n",
    "accuracy = metrics.accuracy_score(dfTest.emotion, y_test_pred)\n",
    "print(f'Accuracy: {accuracy}')\n",
    "\n",
    "# get confusion matrix\n",
    "matrix = metrics.confusion_matrix(dfTest.emotion, y_test_pred)\n",
    "print(f'Confusion matrix:\\n{matrix}')\n",
    "\n",
    "# calculate the accuracy and print it\n",
    "accuracy_each_class = metrics.classification_report(dfTest.emotion, y_test_pred, target_names=emotion_label_to_text.values())\n",
    "print(accuracy_each_class)\n",
    "\n",
    "######## your code ########"
   ]
  },
  {
   "cell_type": "markdown",
   "id": "a41f3f53",
   "metadata": {},
   "source": [
    "## 3. Try different parameters when training the Logistic Regression model\n",
    "Requirement: Change the values of 'penalty' and 'C', re-train the model, and evaluate the accuracy.\n",
    "\n",
    "penalty {‘l1’, ‘l2’, ‘elasticnet’, ‘none’}, default=’l2’\n",
    "C: float, default=1.0\n",
    "\n",
    "Ref: https://scikit-learn.org/stable/modules/generated/sklearn.linear_model.LogisticRegression.html"
   ]
  },
  {
   "cell_type": "code",
   "execution_count": 8,
   "id": "0e958be2",
   "metadata": {
    "ExecuteTime": {
     "end_time": "2023-09-15T03:33:04.408773800Z",
     "start_time": "2023-09-15T03:29:50.248474500Z"
    }
   },
   "outputs": [
    {
     "name": "stderr",
     "output_type": "stream",
     "text": [
      "C:\\Users\\biao8\\anaconda3\\envs\\EE5112\\lib\\site-packages\\sklearn\\linear_model\\_sag.py:350: ConvergenceWarning: The max_iter was reached which means the coef_ did not converge\n",
      "  warnings.warn(\n"
     ]
    },
    {
     "name": "stdout",
     "output_type": "stream",
     "text": [
      "l2 0.1 0.316\n"
     ]
    },
    {
     "name": "stderr",
     "output_type": "stream",
     "text": [
      "C:\\Users\\biao8\\anaconda3\\envs\\EE5112\\lib\\site-packages\\sklearn\\linear_model\\_sag.py:350: ConvergenceWarning: The max_iter was reached which means the coef_ did not converge\n",
      "  warnings.warn(\n"
     ]
    },
    {
     "name": "stdout",
     "output_type": "stream",
     "text": [
      "l2 0.2 0.316\n"
     ]
    },
    {
     "name": "stderr",
     "output_type": "stream",
     "text": [
      "C:\\Users\\biao8\\anaconda3\\envs\\EE5112\\lib\\site-packages\\sklearn\\linear_model\\_sag.py:350: ConvergenceWarning: The max_iter was reached which means the coef_ did not converge\n",
      "  warnings.warn(\n"
     ]
    },
    {
     "name": "stdout",
     "output_type": "stream",
     "text": [
      "l2 0.5 0.315\n"
     ]
    },
    {
     "name": "stderr",
     "output_type": "stream",
     "text": [
      "C:\\Users\\biao8\\anaconda3\\envs\\EE5112\\lib\\site-packages\\sklearn\\linear_model\\_sag.py:350: ConvergenceWarning: The max_iter was reached which means the coef_ did not converge\n",
      "  warnings.warn(\n",
      "C:\\Users\\biao8\\anaconda3\\envs\\EE5112\\lib\\site-packages\\sklearn\\linear_model\\_logistic.py:1182: FutureWarning: `penalty='none'`has been deprecated in 1.2 and will be removed in 1.4. To keep the past behaviour, set `penalty=None`.\n",
      "  warnings.warn(\n",
      "C:\\Users\\biao8\\anaconda3\\envs\\EE5112\\lib\\site-packages\\sklearn\\linear_model\\_logistic.py:1192: UserWarning: Setting penalty=None will ignore the C and l1_ratio parameters\n",
      "  warnings.warn(\n"
     ]
    },
    {
     "name": "stdout",
     "output_type": "stream",
     "text": [
      "l2 1 0.317\n"
     ]
    },
    {
     "name": "stderr",
     "output_type": "stream",
     "text": [
      "C:\\Users\\biao8\\anaconda3\\envs\\EE5112\\lib\\site-packages\\sklearn\\linear_model\\_sag.py:350: ConvergenceWarning: The max_iter was reached which means the coef_ did not converge\n",
      "  warnings.warn(\n",
      "C:\\Users\\biao8\\anaconda3\\envs\\EE5112\\lib\\site-packages\\sklearn\\linear_model\\_logistic.py:1182: FutureWarning: `penalty='none'`has been deprecated in 1.2 and will be removed in 1.4. To keep the past behaviour, set `penalty=None`.\n",
      "  warnings.warn(\n",
      "C:\\Users\\biao8\\anaconda3\\envs\\EE5112\\lib\\site-packages\\sklearn\\linear_model\\_logistic.py:1192: UserWarning: Setting penalty=None will ignore the C and l1_ratio parameters\n",
      "  warnings.warn(\n"
     ]
    },
    {
     "name": "stdout",
     "output_type": "stream",
     "text": [
      "none 0.1 0.316\n"
     ]
    },
    {
     "name": "stderr",
     "output_type": "stream",
     "text": [
      "C:\\Users\\biao8\\anaconda3\\envs\\EE5112\\lib\\site-packages\\sklearn\\linear_model\\_sag.py:350: ConvergenceWarning: The max_iter was reached which means the coef_ did not converge\n",
      "  warnings.warn(\n",
      "C:\\Users\\biao8\\anaconda3\\envs\\EE5112\\lib\\site-packages\\sklearn\\linear_model\\_logistic.py:1182: FutureWarning: `penalty='none'`has been deprecated in 1.2 and will be removed in 1.4. To keep the past behaviour, set `penalty=None`.\n",
      "  warnings.warn(\n",
      "C:\\Users\\biao8\\anaconda3\\envs\\EE5112\\lib\\site-packages\\sklearn\\linear_model\\_logistic.py:1192: UserWarning: Setting penalty=None will ignore the C and l1_ratio parameters\n",
      "  warnings.warn(\n"
     ]
    },
    {
     "name": "stdout",
     "output_type": "stream",
     "text": [
      "none 0.2 0.315\n"
     ]
    },
    {
     "name": "stderr",
     "output_type": "stream",
     "text": [
      "C:\\Users\\biao8\\anaconda3\\envs\\EE5112\\lib\\site-packages\\sklearn\\linear_model\\_sag.py:350: ConvergenceWarning: The max_iter was reached which means the coef_ did not converge\n",
      "  warnings.warn(\n",
      "C:\\Users\\biao8\\anaconda3\\envs\\EE5112\\lib\\site-packages\\sklearn\\linear_model\\_logistic.py:1182: FutureWarning: `penalty='none'`has been deprecated in 1.2 and will be removed in 1.4. To keep the past behaviour, set `penalty=None`.\n",
      "  warnings.warn(\n"
     ]
    },
    {
     "name": "stdout",
     "output_type": "stream",
     "text": [
      "none 0.5 0.315\n",
      "none 1 0.317\n"
     ]
    },
    {
     "name": "stderr",
     "output_type": "stream",
     "text": [
      "C:\\Users\\biao8\\anaconda3\\envs\\EE5112\\lib\\site-packages\\sklearn\\linear_model\\_sag.py:350: ConvergenceWarning: The max_iter was reached which means the coef_ did not converge\n",
      "  warnings.warn(\n"
     ]
    }
   ],
   "source": [
    "for penalty in [ 'l2', 'None']:\n",
    "    for c in [0.1, 0.2, 0.5, 1]:\n",
    "        # TODO: calculate the accuracy\n",
    "        model = linear_model.LogisticRegression(solver='sag', penalty=penalty, C=c)\n",
    "        model.fit(x, y)\n",
    "        y_test_pred = model.predict(np.vstack(dfTest['pixels'].values))\n",
    "        print(penalty, c, metrics.accuracy_score(dfTest['emotion'].values, y_test_pred))"
   ]
  },
  {
   "cell_type": "markdown",
   "id": "3c9015e03af5746e",
   "metadata": {},
   "source": []
  }
 ],
 "metadata": {
  "kernelspec": {
   "display_name": "Python 3 (ipykernel)",
   "language": "python",
   "name": "python3"
  },
  "language_info": {
   "codemirror_mode": {
    "name": "ipython",
    "version": 3
   },
   "file_extension": ".py",
   "mimetype": "text/x-python",
   "name": "python",
   "nbconvert_exporter": "python",
   "pygments_lexer": "ipython3",
   "version": "3.11.4"
  }
 },
 "nbformat": 4,
 "nbformat_minor": 5
}
