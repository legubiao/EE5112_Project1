{
 "cells": [
  {
   "cell_type": "code",
   "execution_count": 14,
   "metadata": {
    "ExecuteTime": {
     "end_time": "2023-09-21T06:06:16.713914300Z",
     "start_time": "2023-09-21T06:06:16.620330300Z"
    }
   },
   "outputs": [
    {
     "data": {
      "text/plain": "<_io.BufferedRandom name='dataset_for_task4.wav'>"
     },
     "execution_count": 14,
     "metadata": {},
     "output_type": "execute_result"
    }
   ],
   "source": [
    "from pydub import AudioSegment\n",
    "\n",
    "# Load the MP3 file\n",
    "audio = AudioSegment.from_mp3(\"dataset_for_task4/voice.mp3\")\n",
    "\n",
    "# Export it as a WAV file\n",
    "audio.export(\"dataset_for_task4.wav\", format=\"wav\")\n"
   ]
  },
  {
   "cell_type": "code",
   "execution_count": 13,
   "metadata": {
    "ExecuteTime": {
     "end_time": "2023-09-21T05:57:24.988149500Z",
     "start_time": "2023-09-21T05:57:22.934894300Z"
    }
   },
   "outputs": [
    {
     "name": "stdout",
     "output_type": "stream",
     "text": [
      "Transcription: the quick brown fox jumps over the lazy dog\n"
     ]
    }
   ],
   "source": [
    "import speech_recognition as sr\n",
    "\n",
    "# Initialize the recognizer\n",
    "recognizer = sr.Recognizer()\n",
    "\n",
    "# Load the WAV file\n",
    "with sr.AudioFile(\"dataset_for_task4.wav\") as source:\n",
    "    audio_data = recognizer.record(source)\n",
    "\n",
    "# Perform speech recognition\n",
    "try:\n",
    "    text = recognizer.recognize_google(audio_data)\n",
    "    print(\"Transcription: \" + text)\n",
    "except sr.UnknownValueError:\n",
    "    print(\"Could not understand the audio.\")\n",
    "except sr.RequestError as e:\n",
    "    print(\"Could not request results; {0}\".format(e))\n"
   ]
  },
  {
   "cell_type": "code",
   "execution_count": null,
   "outputs": [],
   "source": [],
   "metadata": {
    "collapsed": false
   }
  }
 ],
 "metadata": {
  "kernelspec": {
   "display_name": "dl",
   "language": "python",
   "name": "python3"
  },
  "language_info": {
   "codemirror_mode": {
    "name": "ipython",
    "version": 3
   },
   "file_extension": ".py",
   "mimetype": "text/x-python",
   "name": "python",
   "nbconvert_exporter": "python",
   "pygments_lexer": "ipython3",
   "version": "3.7.16"
  },
  "orig_nbformat": 4
 },
 "nbformat": 4,
 "nbformat_minor": 2
}
