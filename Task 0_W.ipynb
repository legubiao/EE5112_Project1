{
 "cells": [
  {
   "cell_type": "markdown",
   "id": "1247cd3e",
   "metadata": {},
   "source": [
    "# Task 0: Recognize facial expressions"
   ]
  },
  {
   "cell_type": "markdown",
   "id": "4b051b3b",
   "metadata": {},
   "source": [
    "## (1).\tLoad data and visualize images. "
   ]
  },
  {
   "cell_type": "code",
   "execution_count": 2,
   "id": "dd740417",
   "metadata": {},
   "outputs": [
    {
     "name": "stdout",
     "output_type": "stream",
     "text": [
      "The number of dataset is 6999\n"
     ]
    }
   ],
   "source": [
    "import numpy as np\n",
    "import pandas as pd\n",
    "\n",
    "fer2013 = pd.read_csv('./dataset_for_task0/fer2013_7k.csv')[['emotion', 'pixels']] \n",
    "fer2013['pixels'] = fer2013['pixels'].apply(lambda x: np.array(x.split()).astype(int))\n",
    "\n",
    "num_of_dataset = len(fer2013)\n",
    "print(f\"The number of dataset is {num_of_dataset}\")"
   ]
  },
  {
   "cell_type": "code",
   "execution_count": 3,
   "id": "9cc32b79",
   "metadata": {},
   "outputs": [
    {
     "name": "stdout",
     "output_type": "stream",
     "text": [
      "Label: anger\n"
     ]
    },
    {
     "data": {
      "image/png": "[encoded data removed]",
      "text/plain": [
       "<Figure size 640x480 with 1 Axes>"
      ]
     },
     "metadata": {},
     "output_type": "display_data"
    }
   ],
   "source": [
    "import cv2\n",
    "import matplotlib.pyplot as plt\n",
    "\n",
    "emotion_label_to_text = {\n",
    "    0: 'anger', 1: 'disgust', \n",
    "    2: 'fear', 3: 'happiness', \n",
    "    4: 'sadness', 5: 'surprise', \n",
    "    6: 'neutral'\n",
    "}\n",
    "\n",
    "# randomly select one image\n",
    "img = fer2013['pixels'][0].reshape(48,48)\n",
    "plt.imshow(img, cmap=\"gray\")\n",
    "print('Label: {0}'.format(emotion_label_to_text[fer2013['emotion'][0]]))"
   ]
  },
  {
   "cell_type": "markdown",
   "id": "8f43a99c",
   "metadata": {},
   "source": [
    "## (2). Train classification model with logistic regression algorithm on training set and evaluate the model on test set.\n",
    "- define the Logistic Regression model with solver='sag'\n",
    "- Train the model on the training set, and evaluate it on the test set.\n",
    "- Calculate the accuracy on each catagory.\n",
    "\n",
    "Ref: https://scikit-learn.org/stable/modules/generated/sklearn.linear_model.LogisticRegression.html"
   ]
  },
  {
   "cell_type": "code",
   "execution_count": 4,
   "id": "2ca6ac6b",
   "metadata": {},
   "outputs": [],
   "source": [
    "from sklearn import linear_model\n",
    "\n",
    "dfTrain = fer2013.iloc[:-1000] # 训练集\n",
    "dfTest = fer2013.iloc[-1000:] # 测试集\n",
    "\n",
    "y = dfTrain['emotion'].values.flatten() # \n",
    "x = np.vstack(dfTrain['pixels'].values)\n"
   ]
  },
  {
   "cell_type": "code",
   "execution_count": 4,
   "id": "31b1a316",
   "metadata": {},
   "outputs": [
    {
     "name": "stderr",
     "output_type": "stream",
     "text": [
      "e:\\anaconda\\envs\\dl\\lib\\site-packages\\sklearn\\linear_model\\_sag.py:354: ConvergenceWarning: The max_iter was reached which means the coef_ did not converge\n",
      "  ConvergenceWarning,\n"
     ]
    },
    {
     "data": {
      "text/plain": [
       "LogisticRegression(max_iter=1000, solver='sag')"
      ]
     },
     "execution_count": 4,
     "metadata": {},
     "output_type": "execute_result"
    }
   ],
   "source": [
    "\n",
    "# TODO: train the model\n",
    "\n",
    "######## your code ########\n",
    "model=linear_model.LogisticRegression(solver='sag',max_iter=1000)\n",
    "model.fit(x, y)\n",
    "######## your code ########"
   ]
  },
  {
   "cell_type": "code",
   "execution_count": null,
   "id": "e9df87ab",
   "metadata": {},
   "outputs": [],
   "source": [
    "# TODO: predict outputs on test set\n",
    "\n",
    "######## your code ########\n",
    "y_test_pred = model.predict(np.vstack(dfTest['pixels'].values)) \n",
    "######## your code ########"
   ]
  },
  {
   "cell_type": "code",
   "execution_count": 10,
   "id": "50214056",
   "metadata": {},
   "outputs": [
    {
     "name": "stdout",
     "output_type": "stream",
     "text": [
      "[[ 27   1  17  36  16  12  26]\n",
      " [  0   0   4   2   4   1   5]\n",
      " [ 21   0  24  47  15  21  29]\n",
      " [ 24   0  18 145  30  11  19]\n",
      " [ 29   0  21  47  36  11  38]\n",
      " [ 13   0  15  23  12  43  12]\n",
      " [ 17   0  18  42  13  11  44]]\n",
      "[4 0 3 3 3 3 0 6 0 3 0 3 5 3 3 2 3 3 6 6 0 5 6 5 2 0 2 6 0 0 3 4 3 5 0 6 4\n",
      " 3 2 6 2 3 0 4 3 3 3 6 3 4 3 4 0 3 4 3 4 0 2 5 6 2 6 3 6 3 3 5 3 2 2 6 4 3\n",
      " 2 0 0 3 6 0 3 0 3 2 3 4 4 5 3 0 3 2 4 6 5 3 6 2 6 3 4 6 5 3 0 5 3 0 4 4 4\n",
      " 3 6 5 3 4 3 4 3 0 3 0 6 0 0 6 5 3 3 3 4 3 2 6 4 4 3 0 3 6 5 5 3 5 5 6 4 5\n",
      " 2 3 4 3 4 6 3 3 3 3 3 2 0 6 5 6 2 3 3 5 2 2 3 4 6 5 3 2 3 0 4 6 0 5 2 5 4\n",
      " 3 3 3 0 0 2 2 3 0 3 0 6 3 5 3 2 3 5 0 2 2 3 6 4 0 3 2 6 4 6 5 4 3 4 4 4 5\n",
      " 6 6 3 3 3 6 3 6 6 3 2 2 5 3 4 3 3 5 5 5 4 5 3 3 2 4 2 2 6 5 3 6 2 0 6 2 4\n",
      " 4 3 3 3 3 6 5 3 3 5 3 5 6 3 4 5 0 6 5 4 0 3 2 5 3 0 3 3 4 3 0 3 3 3 3 6 6\n",
      " 3 6 5 6 5 4 5 4 6 4 2 0 4 3 0 3 6 4 3 6 3 6 3 4 3 3 0 5 2 6 2 6 2 2 3 4 6\n",
      " 6 3 3 4 3 3 4 6 6 3 4 3 4 6 3 0 3 3 6 6 3 3 2 0 0 5 6 5 5 5 6 0 6 3 3 3 3\n",
      " 6 3 6 3 5 5 0 6 3 3 0 4 3 3 5 5 2 6 2 2 5 2 0 3 6 3 4 3 2 6 0 3 3 3 4 2 5\n",
      " 3 3 3 5 0 5 4 3 6 0 3 5 3 4 6 6 6 6 5 2 6 5 3 3 2 2 0 2 2 6 5 0 2 3 3 5 5\n",
      " 3 0 0 0 3 4 3 0 2 6 3 2 3 0 3 4 6 0 2 2 6 2 6 3 2 3 3 0 0 2 3 5 4 6 6 2 6\n",
      " 6 3 2 3 2 6 5 2 6 4 4 6 0 3 0 3 2 0 3 2 3 3 6 0 0 6 3 6 5 5 0 6 4 2 6 3 3\n",
      " 3 5 2 2 2 3 6 4 3 3 2 4 5 0 6 0 3 3 3 3 0 3 4 6 3 3 3 4 0 4 3 6 2 3 3 0 3\n",
      " 6 0 0 6 6 5 3 5 3 0 3 5 4 5 4 3 2 0 2 6 6 5 5 3 0 3 0 3 4 3 5 2 3 0 5 0 2\n",
      " 3 3 6 6 3 6 3 5 2 5 5 3 0 3 3 4 3 6 4 3 3 5 6 3 6 0 3 4 3 3 0 0 4 3 3 4 2\n",
      " 6 3 3 0 4 3 3 6 6 3 3 0 4 4 5 4 2 4 6 5 3 4 5 6 3 3 3 6 3 3 5 0 4 2 3 3 0\n",
      " 3 2 3 3 3 3 3 0 3 2 4 4 0 4 6 3 2 3 5 6 4 6 1 5 3 3 0 4 2 4 3 5 3 6 4 0 2\n",
      " 0 3 3 6 3 5 3 4 3 3 5 0 0 4 3 0 2 6 6 3 0 5 6 3 3 6 0 2 6 3 6 6 2 4 3 6 2\n",
      " 5 2 3 6 0 6 6 3 2 6 5 6 5 0 3 0 6 3 0 5 3 4 0 3 3 3 3 6 2 3 3 4 3 2 3 6 6\n",
      " 3 5 0 3 2 3 0 3 4 6 2 0 3 6 3 5 3 5 3 0 2 0 0 6 4 2 0 3 3 0 3 4 2 3 6 3 4\n",
      " 5 3 2 4 0 3 6 3 3 4 2 2 6 3 4 6 5 6 0 3 4 2 3 2 3 4 4 2 3 3 3 6 3 3 5 6 3\n",
      " 5 3 0 3 5 3 4 6 0 6 0 6 3 5 4 3 6 5 6 6 4 6 3 6 2 3 0 3 4 2 3 3 3 2 4 4 0\n",
      " 6 3 0 6 3 6 3 3 3 6 0 6 2 6 6 0 2 3 3 4 2 2 0 0 3 3 2 3 2 3 3 6 3 0 3 3 4\n",
      " 6 3 2 4 5 3 3 4 6 3 5 3 5 3 5 6 0 4 6 3 0 5 6 4 3 4 6 3 0 4 0 3 3 4 5 2 3\n",
      " 3 3 4 3 2 5 3 2 0 3 3 6 5 6 3 3 3 6 3 4 6 3 3 6 3 3 3 3 0 4 6 0 3 4 3 4 4\n",
      " 3]\n"
     ]
    }
   ],
   "source": [
    "from sklearn import metrics\n",
    "\n",
    "######## your code ########\n",
    "\n",
    "# get confusion matrix\n",
    "matrix = metrics.confusion_matrix(dfTest['emotion'].values.flatten(), y_test_pred)\n",
    "print(matrix)\n",
    "print(y_test_pred)\n",
    "# calculate the accuracy and print it\n",
    "accuracy_each_class = np.diag(matrix) / matrix.sum(axis=1)"
   ]
  },
  {
   "cell_type": "code",
   "execution_count": 25,
   "id": "eadfa2c2",
   "metadata": {},
   "outputs": [
    {
     "name": "stdout",
     "output_type": "stream",
     "text": [
      "[[ 27   1  17  36  16  12  26]\n",
      " [  0   0   4   2   4   1   5]\n",
      " [ 21   0  24  47  15  21  29]\n",
      " [ 24   0  18 145  30  11  19]\n",
      " [ 29   0  21  47  36  11  38]\n",
      " [ 13   0  15  23  12  43  12]\n",
      " [ 17   0  18  42  13  11  44]]\n",
      "anger:0.2\n",
      "disgust:0.0\n",
      "fear:0.15286624203821655\n",
      "happiness:0.5870445344129555\n",
      "sadness:0.1978021978021978\n",
      "surprise:0.3644067796610169\n",
      "neutral:0.30344827586206896\n"
     ]
    }
   ],
   "source": [
    "# TODO: calculate the accuracy\n",
    "# Ref: https://scikit-learn.org/stable/modules/generated/sklearn.metrics.confusion_matrix.html\n",
    "from sklearn import metrics\n",
    "\n",
    "######## your code ########\n",
    "\n",
    "# get confusion matrix\n",
    "matrix = metrics.confusion_matrix(dfTest['emotion'].values.flatten(), y_test_pred)\n",
    "print(matrix)\n",
    "# calculate the accuracy and print it\n",
    "accuracy_each_class = np.diag(matrix) / matrix.sum(axis=1)\n",
    "n=0\n",
    "for i in accuracy_each_class:\n",
    "    \n",
    "    print(emotion_label_to_text[n]+':'+str(i))\n",
    "    n=n+1\n",
    "# print(accuracy_each_class)\n",
    "\n",
    "######## your code ########"
   ]
  },
  {
   "attachments": {},
   "cell_type": "markdown",
   "id": "a41f3f53",
   "metadata": {},
   "source": [
    "## 3. Try different parameters when training the Logistic Regression model\n",
    "Requirement: Change the values of 'penalty' and 'C', re-train the model, and evaluate the accuracy.\n",
    "\n",
    "penalty {‘l1’, ‘l2’, ‘elasticnet’, ‘none’}, default=’l2’\n",
    "C: float, default=1.0\n",
    "\n",
    "Ref: https://scikit-learn.org/stable/modules/generated/sklearn.linear_model.LogisticRegression.html"
   ]
  },
  {
   "cell_type": "code",
   "execution_count": 8,
   "id": "0e958be2",
   "metadata": {},
   "outputs": [
    {
     "name": "stderr",
     "output_type": "stream",
     "text": [
      "e:\\anaconda\\envs\\dl\\lib\\site-packages\\sklearn\\linear_model\\_sag.py:354: ConvergenceWarning: The max_iter was reached which means the coef_ did not converge\n",
      "  ConvergenceWarning,\n",
      "e:\\anaconda\\envs\\dl\\lib\\site-packages\\sklearn\\linear_model\\_sag.py:354: ConvergenceWarning: The max_iter was reached which means the coef_ did not converge\n",
      "  ConvergenceWarning,\n",
      "e:\\anaconda\\envs\\dl\\lib\\site-packages\\sklearn\\linear_model\\_sag.py:354: ConvergenceWarning: The max_iter was reached which means the coef_ did not converge\n",
      "  ConvergenceWarning,\n",
      "e:\\anaconda\\envs\\dl\\lib\\site-packages\\sklearn\\linear_model\\_sag.py:354: ConvergenceWarning: The max_iter was reached which means the coef_ did not converge\n",
      "  ConvergenceWarning,\n",
      "e:\\anaconda\\envs\\dl\\lib\\site-packages\\sklearn\\linear_model\\_logistic.py:1484: UserWarning: Setting penalty='none' will ignore the C and l1_ratio parameters\n",
      "  \"Setting penalty='none' will ignore the C and l1_ratio parameters\"\n",
      "e:\\anaconda\\envs\\dl\\lib\\site-packages\\sklearn\\linear_model\\_sag.py:354: ConvergenceWarning: The max_iter was reached which means the coef_ did not converge\n",
      "  ConvergenceWarning,\n",
      "e:\\anaconda\\envs\\dl\\lib\\site-packages\\sklearn\\linear_model\\_logistic.py:1484: UserWarning: Setting penalty='none' will ignore the C and l1_ratio parameters\n",
      "  \"Setting penalty='none' will ignore the C and l1_ratio parameters\"\n",
      "e:\\anaconda\\envs\\dl\\lib\\site-packages\\sklearn\\linear_model\\_sag.py:354: ConvergenceWarning: The max_iter was reached which means the coef_ did not converge\n",
      "  ConvergenceWarning,\n",
      "e:\\anaconda\\envs\\dl\\lib\\site-packages\\sklearn\\linear_model\\_logistic.py:1484: UserWarning: Setting penalty='none' will ignore the C and l1_ratio parameters\n",
      "  \"Setting penalty='none' will ignore the C and l1_ratio parameters\"\n",
      "e:\\anaconda\\envs\\dl\\lib\\site-packages\\sklearn\\linear_model\\_sag.py:354: ConvergenceWarning: The max_iter was reached which means the coef_ did not converge\n",
      "  ConvergenceWarning,\n",
      "e:\\anaconda\\envs\\dl\\lib\\site-packages\\sklearn\\linear_model\\_sag.py:354: ConvergenceWarning: The max_iter was reached which means the coef_ did not converge\n",
      "  ConvergenceWarning,\n"
     ]
    },
    {
     "data": {
      "image/png": "[encoded data removed]",
      "text/plain": [
       "<Figure size 640x480 with 1 Axes>"
      ]
     },
     "metadata": {},
     "output_type": "display_data"
    }
   ],
   "source": [
    "for penalty in ['l2', 'none']:\n",
    "    accuracy_values = []  # List to store accuracy values for each C\n",
    "    for c in [0.1, 0.2, 0.5, 1]:\n",
    "        # Create and train the logistic regression model\n",
    "        model = linear_model.LogisticRegression(penalty=penalty, C=c, solver='sag')\n",
    "        model.fit(x, y)\n",
    "\n",
    "        # Make predictions on the test data\n",
    "        y_test_pred = model.predict(np.vstack(dfTest['pixels'].values))\n",
    "\n",
    "        # Calculate and print the accuracy\n",
    "        matrix = metrics.confusion_matrix(dfTest['emotion'].values.flatten(), y_test_pred)\n",
    "        accuracy = metrics.accuracy_score(dfTest['emotion'].values, y_test_pred)\n",
    "        accuracy_values.append(accuracy)\n",
    "\n",
    "    # Plot the accuracy with different C values and connect them with lines\n",
    "    plt.plot([0.1, 0.2, 0.5, 1], accuracy_values, label=f\"{penalty}\", marker='o')\n",
    "\n",
    "# Adding labels and legend to the plot\n",
    "plt.xlabel('C')\n",
    "plt.ylabel('Accuracy')\n",
    "plt.legend()\n",
    "plt.show()"
   ]
  }
 ],
 "metadata": {
  "kernelspec": {
   "display_name": "Python 3 (ipykernel)",
   "language": "python",
   "name": "python3"
  },
  "language_info": {
   "codemirror_mode": {
    "name": "ipython",
    "version": 3
   },
   "file_extension": ".py",
   "mimetype": "text/x-python",
   "name": "python",
   "nbconvert_exporter": "python",
   "pygments_lexer": "ipython3",
   "version": "3.7.16"
  }
 },
 "nbformat": 4,
 "nbformat_minor": 5
}
