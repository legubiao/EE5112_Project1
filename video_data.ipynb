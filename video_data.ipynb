{
 "cells": [
  {
   "cell_type": "code",
   "execution_count": 5,
   "metadata": {},
   "outputs": [],
   "source": [
    "import cv2\n",
    "import time\n",
    "import os\n",
    "\n",
    "cap = cv2.VideoCapture('./gesture5.mp4') #导入视频，可以将视频放入和程序所在的同一目录下，也可以放置别的目录，修改对应的路径即可\n",
    "\n",
    "# saving = False\n",
    "\n",
    "saving=True # 控制视频是否将视频逐帧保存为图片\n",
    "frame_id = 0\n",
    "dir1 = \"\"\n",
    "\n",
    "dir1 = time.strftime(\"%Y_%m_%d_%H_%M_%S\", time.localtime())\n",
    "os.mkdir(dir1)\n",
    "saving = True\n",
    "frame_id = 0\n",
    "while True:\n",
    "\n",
    "    # try:\n",
    "    _, im = cap.read()\n",
    "    if im is None:\n",
    "        break\n",
    "\n",
    "    cv2.imshow('name', im)\n",
    "    key = cv2.waitKey(10) & 0xFF\n",
    "    if saving:\n",
    "        file_name = dir1 + \"\\\\\" + str(frame_id)\n",
    "        cv2.imwrite(file_name + \".jpg\", im)\n",
    "\n",
    "        frame_id += 1\n",
    "    if (key == ord('q')) | (key == 27):\n",
    "        break\n",
    "\n",
    "\n"
   ]
  }
 ],
 "metadata": {
  "kernelspec": {
   "display_name": "dl",
   "language": "python",
   "name": "python3"
  },
  "language_info": {
   "codemirror_mode": {
    "name": "ipython",
    "version": 3
   },
   "file_extension": ".py",
   "mimetype": "text/x-python",
   "name": "python",
   "nbconvert_exporter": "python",
   "pygments_lexer": "ipython3",
   "version": "3.7.16"
  },
  "orig_nbformat": 4
 },
 "nbformat": 4,
 "nbformat_minor": 2
}
