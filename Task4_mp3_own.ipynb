{
 "cells": [
  {
   "cell_type": "code",
   "execution_count": 4,
   "metadata": {},
   "outputs": [],
   "source": [
    "from pydub import AudioSegment"
   ]
  },
  {
   "cell_type": "code",
   "execution_count": 3,
   "metadata": {},
   "outputs": [
    {
     "name": "stdout",
     "output_type": "stream",
     "text": [
      "3.7.16 (default, Jan 17 2023, 16:06:28) [MSC v.1916 64 bit (AMD64)]\n",
      "E:/mysql/community/ffmpeg-master-latest-win64-gpl/ffmpeg.exe\n",
      "E:/mysql/community/ffmpeg-master-latest-win64-gpl/ffprobe.exe\n",
      "转换完成：Vwf.m4a -> wf.wav\n"
     ]
    }
   ],
   "source": [
    "from pydub import silence, AudioSegment\n",
    "from pathlib import Path\n",
    " \n",
    "import os, sys\n",
    "import matplotlib.pyplot as plt\n",
    " \n",
    "print (sys.version)\n",
    " \n",
    "#AudioSegment.ffmpeg = os.getcwd()+\"\\\\ffmpeg\\\\bin\\\\ffmpeg.exe\"\n",
    " \n",
    "AudioSegment.converter = r\"E:/mysql/community/ffmpeg-master-latest-win64-gpl/ffmpeg.exe\"\n",
    "AudioSegment.ffprobe   = r\"E:/mysql/community/ffmpeg-master-latest-win64-gpl/ffprobe.exe\"\n",
    " \n",
    "print (AudioSegment.converter)\n",
    "print (AudioSegment.ffprobe)\n",
    " \n",
    "\n",
    "# 输入的M4A文件路径\n",
    "m4a_file = \"Vwf.m4a\"\n",
    "\n",
    "# 输出的WAV文件路径\n",
    "wav_file = \"wf.wav\"\n",
    "\n",
    "# 将M4A文件加载为AudioSegment对象\n",
    "audio = AudioSegment.from_file(m4a_file, format=\"m4a\")\n",
    "\n",
    "# 将AudioSegment对象保存为WAV文件\n",
    "audio.export(wav_file, format=\"wav\")\n",
    "\n",
    "print(f\"转换完成：{m4a_file} -> {wav_file}\")\n",
    "\n",
    "\n",
    " "
   ]
  },
  {
   "cell_type": "code",
   "execution_count": 4,
   "metadata": {},
   "outputs": [
    {
     "name": "stdout",
     "output_type": "stream",
     "text": [
      "result2:\n",
      "{   'alternative': [   {   'confidence': 0.71626985,\n",
      "                           'transcript': 'play some classic is very exciting '\n",
      "                                         'and it makes me very motivated to '\n",
      "                                         'look'},\n",
      "                       {   'confidence': 0.71664709,\n",
      "                           'transcript': 'play some classic is very exciting '\n",
      "                                         'and it makes me very motivated to '\n",
      "                                         'low'},\n",
      "                       {   'confidence': 0.71664709,\n",
      "                           'transcript': 'play some classic is very exciting '\n",
      "                                         'and it makes me very motivated to '\n",
      "                                         'Lo'},\n",
      "                       {   'confidence': 0.71664709,\n",
      "                           'transcript': 'play some classic is very exciting '\n",
      "                                         'and it makes me very motivated to '\n",
      "                                         'Lowe'},\n",
      "                       {   'confidence': 0.70084226,\n",
      "                           'transcript': \"play some classic it's very exciting \"\n",
      "                                         'and it makes me very motivated to '\n",
      "                                         'look'}],\n",
      "    'final': True}\n",
      "Transcription: play some classic is very exciting and it makes me very motivated to look\n"
     ]
    }
   ],
   "source": [
    "import speech_recognition as sr\n",
    "\n",
    "# Initialize the recognizer\n",
    "recognizer = sr.Recognizer()\n",
    "\n",
    "# Load the WAV file\n",
    "with sr.AudioFile(\"wf.wav\") as source:\n",
    "    audio_data = recognizer.record(source)\n",
    "\n",
    "# Perform speech recognition\n",
    "try:\n",
    "    text = recognizer.recognize_google(audio_data)\n",
    "    print(\"Transcription: \" + text)\n",
    "except sr.UnknownValueError:\n",
    "    print(\"Could not understand the audio.\")\n",
    "except sr.RequestError as e:\n",
    "    print(\"Could not request results; {0}\".format(e))\n"
   ]
  }
 ],
 "metadata": {
  "kernelspec": {
   "display_name": "dl",
   "language": "python",
   "name": "python3"
  },
  "language_info": {
   "codemirror_mode": {
    "name": "ipython",
    "version": 3
   },
   "file_extension": ".py",
   "mimetype": "text/x-python",
   "name": "python",
   "nbconvert_exporter": "python",
   "pygments_lexer": "ipython3",
   "version": "3.7.16"
  },
  "orig_nbformat": 4
 },
 "nbformat": 4,
 "nbformat_minor": 2
}
