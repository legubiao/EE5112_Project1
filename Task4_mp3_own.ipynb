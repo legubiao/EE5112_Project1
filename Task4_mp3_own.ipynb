{
 "cells": [
  {
   "cell_type": "code",
   "execution_count": 2,
   "metadata": {
    "ExecuteTime": {
     "end_time": "2023-09-21T06:06:12.024161200Z",
     "start_time": "2023-09-21T06:06:11.909102300Z"
    }
   },
   "outputs": [
    {
     "data": {
      "text/plain": "<_io.BufferedRandom name='wf.wav'>"
     },
     "execution_count": 2,
     "metadata": {},
     "output_type": "execute_result"
    }
   ],
   "source": [
    "from pydub import AudioSegment\n",
    "\n",
    "# Load the M4a file\n",
    "audio = AudioSegment.from_file(\"Vwf.m4a\", format=\"m4a\")\n",
    "\n",
    "# Export it as a WAV file\n",
    "audio.export(\"wf.wav\", format=\"wav\")\n",
    " "
   ]
  },
  {
   "cell_type": "code",
   "execution_count": 3,
   "metadata": {
    "ExecuteTime": {
     "end_time": "2023-09-21T06:07:47.367356100Z",
     "start_time": "2023-09-21T06:07:41.985314500Z"
    }
   },
   "outputs": [
    {
     "name": "stdout",
     "output_type": "stream",
     "text": [
      "Transcription: play some classic is very exciting and it makes me very motivated to look\n"
     ]
    }
   ],
   "source": [
    "import speech_recognition as sr\n",
    "\n",
    "# Initialize the recognizer\n",
    "recognizer = sr.Recognizer()\n",
    "\n",
    "# Load the WAV file\n",
    "with sr.AudioFile(\"wf.wav\") as source:\n",
    "    audio_data = recognizer.record(source)\n",
    "\n",
    "# Perform speech recognition\n",
    "try:\n",
    "    text = recognizer.recognize_google(audio_data)\n",
    "    print(\"Transcription: \" + text)\n",
    "except sr.UnknownValueError:\n",
    "    print(\"Could not understand the audio.\")\n",
    "except sr.RequestError as e:\n",
    "    print(\"Could not request results; {0}\".format(e))\n"
   ]
  },
  {
   "cell_type": "code",
   "execution_count": null,
   "outputs": [],
   "source": [],
   "metadata": {
    "collapsed": false
   }
  }
 ],
 "metadata": {
  "kernelspec": {
   "display_name": "dl",
   "language": "python",
   "name": "python3"
  },
  "language_info": {
   "codemirror_mode": {
    "name": "ipython",
    "version": 3
   },
   "file_extension": ".py",
   "mimetype": "text/x-python",
   "name": "python",
   "nbconvert_exporter": "python",
   "pygments_lexer": "ipython3",
   "version": "3.7.16"
  },
  "orig_nbformat": 4
 },
 "nbformat": 4,
 "nbformat_minor": 2
}
