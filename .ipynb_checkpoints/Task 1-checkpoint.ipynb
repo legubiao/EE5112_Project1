{
 "cells": [
  {
   "cell_type": "markdown",
   "id": "2dc40bca44cd3c26",
   "metadata": {},
   "source": [
    "# Task 1: Understand body language by gesture recognition with fully connected neural network"
   ]
  },
  {
   "cell_type": "markdown",
   "id": "bdebc998-13f5-4195-a67b-df152735d5b9",
   "metadata": {},
   "source": [
    "## 1. Do literature search on gesture recognition and its application in Human-Robot Interaction. Summarize what you have learned."
   ]
  },
  {
   "cell_type": "markdown",
   "id": "c75d7314-8adc-4e9e-878f-1cf6b6d98a2d",
   "metadata": {},
   "source": [
    "## 2. Referring to the previous example about building a neural network based classifier, use what you have learned to read the code for gesture classification below and design your own network architecture using fully connected layers."
   ]
  },
  {
   "cell_type": "markdown",
   "id": "7337f2e1-9947-4985-a97b-c807c311e28f",
   "metadata": {},
   "source": [
    "## 3. Run the model. Analyse and comment on the performance of your model based on fully connected layers."
   ]
  },
  {
   "cell_type": "code",
   "execution_count": 5,
   "id": "188f9266-fc0b-4001-84ba-73e7804606e6",
   "metadata": {
    "ExecuteTime": {
     "end_time": "2023-09-14T06:28:55.055852Z",
     "start_time": "2023-09-14T06:28:53.880671Z"
    }
   },
   "outputs": [],
   "source": [
    "import cv2\n",
    "import numpy as np\n",
    "import os\n",
    "import itertools\n",
    "import torch.utils.data as utils_dat"
   ]
  },
  {
   "cell_type": "markdown",
   "id": "e9d0830f-0431-4d27-aed5-5fa3156d6091",
   "metadata": {},
   "source": [
    "## 1) data preprocessing"
   ]
  },
  {
   "cell_type": "markdown",
   "id": "926df832-9898-4e91-8beb-d0790da1bf0c",
   "metadata": {},
   "source": [
    "Define a function to preprocess the images including resizing and binaryzation"
   ]
  },
  {
   "cell_type": "code",
   "execution_count": 8,
   "id": "dd1d99d8-da0f-4305-8fbd-1e346abc560b",
   "metadata": {
    "ExecuteTime": {
     "end_time": "2023-09-14T06:29:01.229104Z",
     "start_time": "2023-09-14T06:29:01.221076Z"
    }
   },
   "outputs": [],
   "source": [
    "def processSkinImage(filePath, resize_HW=48):\n",
    "    # step 1\n",
    "    # read the image\n",
    "    original = cv2.imread(filename=filePath)\n",
    "\n",
    "    # step 2\n",
    "    # resize the image to\n",
    "    image_resized = cv2.resize(original, (resize_HW, resize_HW))\n",
    "\n",
    "    # step 3\n",
    "    # convert the image from rgb to YCbCr\n",
    "    image_ycbcr = cv2.cvtColor(image_resized, cv2.COLOR_BGR2YCR_CB)\n",
    "\n",
    "    # step 4\n",
    "    # get the central color of the image\n",
    "    # expected the hand to be in the central of the image\n",
    "    Cb_center_color = image_ycbcr[int(resize_HW/2), int(resize_HW/2), 1]\n",
    "    Cr_center_color = image_ycbcr[int(resize_HW/2), int(resize_HW/2), 2]\n",
    "    # set the range\n",
    "    Cb_Difference = 15\n",
    "    Cr_Difference = 10\n",
    "\n",
    "    # step 5\n",
    "    # detect skin pixels\n",
    "    Cb = image_ycbcr[:, :, 1]\n",
    "    Cr = image_ycbcr[:, :, 2]\n",
    "    index = np.where((Cb >= Cb_center_color-Cb_Difference) & (Cb <= Cb_center_color+Cb_Difference)\n",
    "                     & (Cr >= Cr_center_color-Cr_Difference) & (Cr <= Cr_center_color+Cr_Difference))\n",
    "\n",
    "    # Mark detected pixels and output\n",
    "    image_output = np.zeros((resize_HW, resize_HW))\n",
    "    image_output[index] = 255\n",
    "\n",
    "    # show image\n",
    "    cv2.imshow(\"\", image_output)\n",
    "    cv2.waitKey(0)\n",
    "    return image_output"
   ]
  },
  {
   "cell_type": "markdown",
   "id": "bcf454b1-4248-4a3e-9bf8-9304d64131c4",
   "metadata": {},
   "source": [
    "Deal with all the images using the function defined above.\n",
    "The processed data is stored in a new folder 'dataset_processed'.\n",
    "\n",
    "Generate labels for each class. (class 0, 1, ..., num_classes)\n"
   ]
  },
  {
   "cell_type": "code",
   "execution_count": 3,
   "id": "a67e88cb-3dc7-4bfe-935f-5cba75a782d3",
   "metadata": {
    "ExecuteTime": {
     "end_time": "2023-09-14T06:29:08.794479Z",
     "start_time": "2023-09-14T06:29:08.684172Z"
    }
   },
   "outputs": [],
   "source": [
    "path = './dataset/images'\n",
    "path_processed = './dataset_processed/images'\n",
    "\n",
    "# -------------------images processing--------------\n",
    "for mainDir, subDir, fileList in os.walk(path):\n",
    "    for file in fileList:\n",
    "        currentPath = os.path.join(mainDir, file)\n",
    "        processedImage = processSkinImage(currentPath)\n",
    "\n",
    "        new_mainDir = path_processed + mainDir.split(path)[-1]\n",
    "        if not os.path.exists(new_mainDir):\n",
    "            os.makedirs(new_mainDir)\n",
    "        cv2.imwrite(os.path.join(new_mainDir, file), processedImage)\n",
    "\n",
    "# -----------------label generation----------------\n",
    "label_path = './dataset_processed/labels'\n",
    "if not os.path.exists(label_path):\n",
    "    os.makedirs(label_path)\n",
    "\n",
    "files = os.listdir(path)\n",
    "for i, file in enumerate(files):\n",
    "    subclass_label_path = os.path.join(label_path, file+'.txt')\n",
    "    with open(subclass_label_path, 'w') as f:\n",
    "        f.write('#label\\n')\n",
    "    for _ in range(len(os.listdir(os.path.join(path_processed, file)))):\n",
    "        with open(subclass_label_path, 'a') as f:\n",
    "            f.write('{:d}\\n'.format(i))\n",
    "    f.close()"
   ]
  },
  {
   "cell_type": "markdown",
   "id": "5fac1d92-e269-4297-8b52-6be08c37e503",
   "metadata": {},
   "source": [
    "## 2) load data"
   ]
  },
  {
   "cell_type": "code",
   "execution_count": 4,
   "id": "6e44415d-726c-401c-9a78-5dcd2c140ae2",
   "metadata": {
    "ExecuteTime": {
     "end_time": "2023-09-14T06:29:14.313799Z",
     "start_time": "2023-09-14T06:29:14.299505Z"
    }
   },
   "outputs": [],
   "source": [
    "Image = []\n",
    "path_images = './dataset_processed/images'\n",
    "for mainDir, subDir, fileList in os.walk(path_images):\n",
    "    for file in fileList:\n",
    "        currentPath = os.path.join(mainDir, file)\n",
    "        Image.append(cv2.imread(currentPath)[:, :, 0])\n",
    "Image = np.array(Image)\n",
    "dataset_size, H, W = Image.shape\n",
    "# for FCNN model, the image need to be stretched into one dimension: (b, h, w)->(b, h*w)\n",
    "Image = Image.reshape(dataset_size, -1)\n",
    "\n",
    "\n",
    "Label = []\n",
    "path_labels = './dataset_processed/labels'\n",
    "for file in os.listdir(path_labels):\n",
    "    Label.append(np.loadtxt(os.path.join(path_labels, file)))\n",
    "Label = np.array(list(itertools.chain.from_iterable(Label)))\n",
    "num_classes = int(np.max(Label))+1"
   ]
  },
  {
   "cell_type": "markdown",
   "id": "03e71e6c-b618-4a68-90da-64ab0720edab",
   "metadata": {},
   "source": [
    "## 3) build your own neural network based on fully connected layers."
   ]
  },
  {
   "cell_type": "markdown",
   "id": "d9c77568-a973-444d-95c8-b9fb70190a6f",
   "metadata": {},
   "source": [
    "Design the neural network architecture"
   ]
  },
  {
   "cell_type": "code",
   "execution_count": null,
   "id": "dbbd1a27-4d24-4511-8577-1737a8238616",
   "metadata": {},
   "outputs": [],
   "source": [
    "class FCNNModel(nn.Module):\n",
    "    def __init__(self, *args):\n",
    "        super(FCNNModel, self).__init__()\n",
    "        # code by yourself\n",
    "    \n",
    "    def forward(self, x):\n",
    "        # code by yourself"
   ]
  },
  {
   "cell_type": "markdown",
   "id": "0662eb3b-c72d-4331-8c4f-8190805692c0",
   "metadata": {},
   "source": [
    "instantiate your model, set a optimizer and define a loss function."
   ]
  },
  {
   "cell_type": "code",
   "execution_count": null,
   "id": "c1354717-c8e5-4160-a15a-cba6d2669912",
   "metadata": {},
   "outputs": [],
   "source": [
    "model = models.FCNNModel(input_layer_size=H*W, hidden_layer_size=int(H*W/2), num_classes=num_classes)\n",
    "# if torch.cuda.is_available():\n",
    "#     model = model.cuda()\n",
    "optimizer = torch.optim.Adam(model.parameters(), lr=0.001, weight_decay=0.0001)\n",
    "loss_func = nn.CrossEntropyLoss()"
   ]
  },
  {
   "cell_type": "markdown",
   "id": "44fd1f77-bf0f-43be-bbfd-dfc3dfca6d57",
   "metadata": {},
   "source": [
    "## 4) train and test"
   ]
  },
  {
   "cell_type": "markdown",
   "id": "8f57afac-7916-4851-89be-3e6f54c4e34d",
   "metadata": {},
   "source": [
    "Encapsulate data"
   ]
  },
  {
   "cell_type": "code",
   "execution_count": null,
   "id": "637ac95d-107a-4f69-b570-2d38352d3cfc",
   "metadata": {},
   "outputs": [],
   "source": [
    "dataset = utils_data.TensorDataset(torch.Tensor(Image), torch.LongTensor(Label))\n",
    "split_ratio = 0.8\n",
    "train_size = int(split_ratio * dataset_size)\n",
    "test_size = dataset_size - train_size\n",
    "train_set, test_set = utils_data.random_split(dataset, [train_size, test_size])\n",
    "train_loader = utils_data.DataLoader(dataset=train_set, batch_size=8, shuffle=True)\n",
    "test_loader = utils_data.DataLoader(dataset=test_set, batch_size=8, shuffle=True)\n",
    "print('Data is ready!')"
   ]
  },
  {
   "cell_type": "markdown",
   "id": "0dea0608-ff4d-4da7-94b1-c1d62061d87b",
   "metadata": {},
   "source": [
    "The following is the training and testing process in detail."
   ]
  },
  {
   "cell_type": "code",
   "execution_count": null,
   "id": "4b32aa71-a1cc-4398-8d37-e17acd424534",
   "metadata": {},
   "outputs": [],
   "source": [
    "best_accuracy = 0\n",
    "for epoch in range(500):\n",
    "    running_loss = 0.0\n",
    "    train_acc = 0.0\n",
    "    for step, (batch_image, batch_label) in enumerate(train_loader):\n",
    "        model.train()\n",
    "        # if torch.cuda.is_available():\n",
    "        #     batch_image, batch_label = batch_image.cuda(), batch_label.cuda()\n",
    "        batch_output = model(batch_image)\n",
    "        batch_loss = loss_func(batch_output, batch_label)\n",
    "\n",
    "        optimizer.zero_grad()\n",
    "        batch_loss.backward()\n",
    "        optimizer.step()\n",
    "\n",
    "        running_loss += batch_loss.item()\n",
    "\n",
    "        # train accuracy\n",
    "        _, train_predicted = torch.max(batch_output.data, 1)\n",
    "        train_acc += (train_predicted == batch_label).sum().item()\n",
    "\n",
    "    train_acc /= train_size\n",
    "    running_loss /= (step+1)\n",
    "\n",
    "    # ----------test----------\n",
    "    model.eval()\n",
    "    test_acc = 0.0\n",
    "    for test_image, test_label in test_loader:\n",
    "        test_output = model(test_image)\n",
    "        _, predicted = torch.max(test_output.data, 1)\n",
    "        test_acc += (predicted == test_label).sum().item()\n",
    "    test_acc /= test_size\n",
    "\n",
    "    print('epoch={:d}\\ttrain loss={:.6f}\\ttrain accuracy={:.3f}\\ttest accuracy={:.3f}'.format(\n",
    "        epoch, running_loss, train_acc, test_acc))\n",
    "\n",
    "    if test_acc >= best_accuracy:\n",
    "        torch.save(model.state_dict(), './trained_models/FCNN_model.pkl')\n",
    "        best_accuracy = test_acc\n"
   ]
  }
 ],
 "metadata": {
  "kernelspec": {
   "display_name": "Python 3 (ipykernel)",
   "language": "python",
   "name": "python3"
  },
  "language_info": {
   "codemirror_mode": {
    "name": "ipython",
    "version": 3
   },
   "file_extension": ".py",
   "mimetype": "text/x-python",
   "name": "python",
   "nbconvert_exporter": "python",
   "pygments_lexer": "ipython3",
   "version": "3.11.4"
  }
 },
 "nbformat": 4,
 "nbformat_minor": 5
}
