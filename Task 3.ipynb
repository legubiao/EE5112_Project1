{
 "cells": [
  {
   "cell_type": "markdown",
   "id": "3f6e4056-2243-4539-8126-22f357bbcd14",
   "metadata": {},
   "source": [
    "# Task 3: Understand human gesture and body language based on your own built dataset and model"
   ]
  },
  {
   "cell_type": "markdown",
   "id": "ff6839b1-5947-4fbb-a59c-ec9115a8e650",
   "metadata": {},
   "source": [
    "## 1. Do literature search on dataset building and other deep learning based models applied on gesture recognition. Comment on their applications and benefits."
   ]
  },
  {
   "cell_type": "markdown",
   "id": "254603d7-3f27-4e9e-9d29-7df04c362bda",
   "metadata": {},
   "source": [
    "## 2. In the earlier two tasks, you have learned how to do the gesture classification task using the given dataset. Now, you need to collect data by yourself and build your own dataset. The dataset is not limited to gestures. Postures and behavior are encouraged. Please place your data referring to the format of the given dataset. For good performance, the number of data in each class is recommended over 50. For the number of classes, it is better to have more than 3."
   ]
  },
  {
   "cell_type": "markdown",
   "id": "e00d1de2-a7ef-464a-8386-689961b7e594",
   "metadata": {},
   "source": [
    "## 3. Design your own neural network architecture. Fully connected or convolutional layers used in the first two tasks is acceptable. But you are encouraged to learn more deep learning models and achieve it as possible as you can."
   ]
  },
  {
   "cell_type": "markdown",
   "id": "3f85ae6a-2551-4fd8-ba73-c6b7b3432081",
   "metadata": {},
   "source": [
    "## 3. Write down the problems you encountered during the experiment, the solutions, and your experiences."
   ]
  },
  {
   "cell_type": "code",
   "execution_count": null,
   "id": "0a684964-b989-41c9-978d-c892f6ddd100",
   "metadata": {},
   "outputs": [],
   "source": []
  }
 ],
 "metadata": {
  "kernelspec": {
   "display_name": "Python 3 (ipykernel)",
   "language": "python",
   "name": "python3"
  },
  "language_info": {
   "codemirror_mode": {
    "name": "ipython",
    "version": 3
   },
   "file_extension": ".py",
   "mimetype": "text/x-python",
   "name": "python",
   "nbconvert_exporter": "python",
   "pygments_lexer": "ipython3",
   "version": "3.9.17"
  }
 },
 "nbformat": 4,
 "nbformat_minor": 5
}
